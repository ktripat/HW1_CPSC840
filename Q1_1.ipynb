{
  "nbformat": 4,
  "nbformat_minor": 0,
  "metadata": {
    "colab": {
      "name": "Q1_1.ipynb",
      "provenance": [],
      "collapsed_sections": [],
      "authorship_tag": "ABX9TyMal/qHLIQ79536HI3VKu0O",
      "include_colab_link": true
    },
    "kernelspec": {
      "name": "python3",
      "display_name": "Python 3"
    }
  },
  "cells": [
    {
      "cell_type": "markdown",
      "metadata": {
        "id": "view-in-github",
        "colab_type": "text"
      },
      "source": [
        "<a href=\"https://colab.research.google.com/github/ktripat/HW1_CPSC840/blob/main/Q1_1.ipynb\" target=\"_parent\"><img src=\"https://colab.research.google.com/assets/colab-badge.svg\" alt=\"Open In Colab\"/></a>"
      ]
    },
    {
      "cell_type": "markdown",
      "metadata": {
        "id": "mCFKQUVuaP0J"
      },
      "source": [
        "**Simulate a Nonlinear Function using tensorflow.keras**\r\n"
      ]
    },
    {
      "cell_type": "code",
      "metadata": {
        "id": "2UPjiyWQbQaY"
      },
      "source": [
        "import numpy as np\r\n",
        "import pandas as pd\r\n",
        "import tensorflow as tf \r\n",
        "from matplotlib import pyplot as plt\r\n",
        "import seaborn as sns\r\n"
      ],
      "execution_count": 19,
      "outputs": []
    },
    {
      "cell_type": "markdown",
      "metadata": {
        "id": "N_4KMc_Jqcrz"
      },
      "source": [
        "The nonlinear function considered here : ***f(x)= exp(-x)***. [Exponential Distribution with a waiting parameter lambda =1]\r\n",
        "\r\n",
        "*   Input range of x: (0,10pi) for the training datasets \r\n",
        "\r\n",
        "Let's show the function using the scatter plot."
      ]
    },
    {
      "cell_type": "code",
      "metadata": {
        "colab": {
          "base_uri": "https://localhost:8080/",
          "height": 301
        },
        "id": "jZTwIzAwbw6T",
        "outputId": "d3496dfa-896c-49cd-be4d-31dd69108322"
      },
      "source": [
        "x=np.linspace(0,5,100)\r\n",
        "y=np.exp(-x)\r\n",
        "plt.scatter(x,y,label='Function')\r\n",
        "plt.title('Exponential Distribution with parameter: 1',color='k')\r\n",
        "plt.xlabel(\"X Values\",color='k')\r\n",
        "plt.ylabel('exp(-X)',color='k')\r\n",
        "plt.show()"
      ],
      "execution_count": 21,
      "outputs": [
        {
          "output_type": "display_data",
          "data": {
            "image/png": "[encoded data removed]",
            "text/plain": [
              "<Figure size 432x288 with 1 Axes>"
            ]
          },
          "metadata": {
            "tags": [],
            "needs_background": "light"
          }
        }
      ]
    },
    {
      "cell_type": "markdown",
      "metadata": {
        "id": "QKxt3k_vWw9h"
      },
      "source": [
        "\r\n",
        "\r\n",
        "# **Model #1 Shallow neural network**\r\n",
        "\r\n",
        "\r\n",
        "*   1 hidden layer with 128 hidden units\r\n",
        "*   Activation = ReLU\r\n",
        "*   Optimizer = Adam\r\n",
        "*   Mean Squared Error (MSE)\r\n",
        "\r\n",
        "Number of epochs = 100\r\n"
      ]
    },
    {
      "cell_type": "code",
      "metadata": {
        "id": "omtVWMi08VpE",
        "colab": {
          "base_uri": "https://localhost:8080/"
        },
        "outputId": "d562bf2f-6b21-409d-fe51-4e71d90bda83"
      },
      "source": [
        "model_shallow=tf.keras.models.Sequential([tf.keras.layers.Flatten(input_shape=(1,)),\r\n",
        "                                  tf.keras.layers.Dense(812,activation=tf.nn.relu),\r\n",
        "                                  tf.keras.layers.Dropout(0.2),\r\n",
        "                                  tf.keras.layers.Dense(1)])\r\n",
        "opt=tf.keras.optimizers.Adam(learning_rate=0.02)\r\n",
        "model_shallow.compile(optimizer=opt,loss='mse',metrics=['accuracy'])\r\n",
        "history_shallow=model_shallow.fit(x,y,epochs=100)\r\n"
      ],
      "execution_count": 22,
      "outputs": [
        {
          "output_type": "stream",
          "text": [
            "Epoch 1/100\n",
            "4/4 [==============================] - 0s 4ms/step - loss: 1.6342 - accuracy: 0.0000e+00\n",
            "Epoch 2/100\n",
            "4/4 [==============================] - 0s 4ms/step - loss: 1.6898 - accuracy: 0.0000e+00\n",
            "Epoch 3/100\n",
            "4/4 [==============================] - 0s 3ms/step - loss: 0.1150 - accuracy: 0.0000e+00\n",
            "Epoch 4/100\n",
            "4/4 [==============================] - 0s 4ms/step - loss: 0.1515 - accuracy: 0.0000e+00\n",
            "Epoch 5/100\n",
            "4/4 [==============================] - 0s 4ms/step - loss: 0.1361 - accuracy: 0.0000e+00\n",
            "Epoch 6/100\n",
            "4/4 [==============================] - 0s 5ms/step - loss: 0.0847 - accuracy: 0.0000e+00\n",
            "Epoch 7/100\n",
            "4/4 [==============================] - 0s 3ms/step - loss: 0.0779 - accuracy: 0.0000e+00\n",
            "Epoch 8/100\n",
            "4/4 [==============================] - 0s 3ms/step - loss: 0.0811 - accuracy: 0.0000e+00\n",
            "Epoch 9/100\n",
            "4/4 [==============================] - 0s 4ms/step - loss: 0.0907 - accuracy: 0.0000e+00\n",
            "Epoch 10/100\n",
            "4/4 [==============================] - 0s 3ms/step - loss: 0.0621 - accuracy: 0.0000e+00\n",
            "Epoch 11/100\n",
            "4/4 [==============================] - 0s 3ms/step - loss: 0.0718 - accuracy: 0.0000e+00\n",
            "Epoch 12/100\n",
            "4/4 [==============================] - 0s 3ms/step - loss: 0.0721 - accuracy: 0.0000e+00\n",
            "Epoch 13/100\n",
            "4/4 [==============================] - 0s 4ms/step - loss: 0.0799 - accuracy: 0.0000e+00\n",
            "Epoch 14/100\n",
            "4/4 [==============================] - 0s 3ms/step - loss: 0.0621 - accuracy: 0.0000e+00\n",
            "Epoch 15/100\n",
            "4/4 [==============================] - 0s 3ms/step - loss: 0.0574 - accuracy: 0.0000e+00\n",
            "Epoch 16/100\n",
            "4/4 [==============================] - 0s 5ms/step - loss: 0.0526 - accuracy: 0.0000e+00\n",
            "Epoch 17/100\n",
            "4/4 [==============================] - 0s 3ms/step - loss: 0.0433 - accuracy: 0.0000e+00\n",
            "Epoch 18/100\n",
            "4/4 [==============================] - 0s 3ms/step - loss: 0.0513 - accuracy: 0.0000e+00\n",
            "Epoch 19/100\n",
            "4/4 [==============================] - 0s 4ms/step - loss: 0.0357 - accuracy: 0.0000e+00\n",
            "Epoch 20/100\n",
            "4/4 [==============================] - 0s 3ms/step - loss: 0.0460 - accuracy: 0.0000e+00\n",
            "Epoch 21/100\n",
            "4/4 [==============================] - 0s 3ms/step - loss: 0.0334 - accuracy: 0.0000e+00\n",
            "Epoch 22/100\n",
            "4/4 [==============================] - 0s 4ms/step - loss: 0.0293 - accuracy: 0.0000e+00\n",
            "Epoch 23/100\n",
            "4/4 [==============================] - 0s 3ms/step - loss: 0.0282 - accuracy: 0.0000e+00\n",
            "Epoch 24/100\n",
            "4/4 [==============================] - 0s 3ms/step - loss: 0.0319 - accuracy: 0.0000e+00\n",
            "Epoch 25/100\n",
            "4/4 [==============================] - 0s 4ms/step - loss: 0.0251 - accuracy: 0.0000e+00\n",
            "Epoch 26/100\n",
            "4/4 [==============================] - 0s 9ms/step - loss: 0.0220 - accuracy: 0.0000e+00\n",
            "Epoch 27/100\n",
            "4/4 [==============================] - 0s 5ms/step - loss: 0.0221 - accuracy: 0.0000e+00\n",
            "Epoch 28/100\n",
            "4/4 [==============================] - 0s 4ms/step - loss: 0.0250 - accuracy: 0.0000e+00\n",
            "Epoch 29/100\n",
            "4/4 [==============================] - 0s 4ms/step - loss: 0.0221 - accuracy: 0.0000e+00\n",
            "Epoch 30/100\n",
            "4/4 [==============================] - 0s 7ms/step - loss: 0.0217 - accuracy: 0.0000e+00\n",
            "Epoch 31/100\n",
            "4/4 [==============================] - 0s 5ms/step - loss: 0.0219 - accuracy: 0.0000e+00\n",
            "Epoch 32/100\n",
            "4/4 [==============================] - 0s 5ms/step - loss: 0.0222 - accuracy: 0.0000e+00\n",
            "Epoch 33/100\n",
            "4/4 [==============================] - 0s 5ms/step - loss: 0.0185 - accuracy: 0.0155\n",
            "Epoch 34/100\n",
            "4/4 [==============================] - 0s 4ms/step - loss: 0.0202 - accuracy: 0.0155\n",
            "Epoch 35/100\n",
            "4/4 [==============================] - 0s 4ms/step - loss: 0.0157 - accuracy: 0.0061\n",
            "Epoch 36/100\n",
            "4/4 [==============================] - 0s 4ms/step - loss: 0.0214 - accuracy: 0.0000e+00\n",
            "Epoch 37/100\n",
            "4/4 [==============================] - 0s 4ms/step - loss: 0.0189 - accuracy: 0.0092\n",
            "Epoch 38/100\n",
            "4/4 [==============================] - 0s 4ms/step - loss: 0.0198 - accuracy: 0.0061\n",
            "Epoch 39/100\n",
            "4/4 [==============================] - 0s 4ms/step - loss: 0.0188 - accuracy: 0.0155\n",
            "Epoch 40/100\n",
            "4/4 [==============================] - 0s 4ms/step - loss: 0.0187 - accuracy: 0.0040\n",
            "Epoch 41/100\n",
            "4/4 [==============================] - 0s 3ms/step - loss: 0.0191 - accuracy: 0.0092\n",
            "Epoch 42/100\n",
            "4/4 [==============================] - 0s 4ms/step - loss: 0.0219 - accuracy: 0.0061\n",
            "Epoch 43/100\n",
            "4/4 [==============================] - 0s 4ms/step - loss: 0.0166 - accuracy: 0.0092\n",
            "Epoch 44/100\n",
            "4/4 [==============================] - 0s 4ms/step - loss: 0.0219 - accuracy: 0.0155\n",
            "Epoch 45/100\n",
            "4/4 [==============================] - 0s 4ms/step - loss: 0.0195 - accuracy: 0.0000e+00\n",
            "Epoch 46/100\n",
            "4/4 [==============================] - 0s 4ms/step - loss: 0.0157 - accuracy: 0.0092\n",
            "Epoch 47/100\n",
            "4/4 [==============================] - 0s 4ms/step - loss: 0.0190 - accuracy: 0.0155\n",
            "Epoch 48/100\n",
            "4/4 [==============================] - 0s 5ms/step - loss: 0.0148 - accuracy: 0.0092\n",
            "Epoch 49/100\n",
            "4/4 [==============================] - 0s 4ms/step - loss: 0.0175 - accuracy: 0.0092\n",
            "Epoch 50/100\n",
            "4/4 [==============================] - 0s 4ms/step - loss: 0.0167 - accuracy: 0.0155\n",
            "Epoch 51/100\n",
            "4/4 [==============================] - 0s 5ms/step - loss: 0.0154 - accuracy: 0.0061\n",
            "Epoch 52/100\n",
            "4/4 [==============================] - 0s 4ms/step - loss: 0.0167 - accuracy: 0.0092\n",
            "Epoch 53/100\n",
            "4/4 [==============================] - 0s 5ms/step - loss: 0.0127 - accuracy: 0.0061\n",
            "Epoch 54/100\n",
            "4/4 [==============================] - 0s 4ms/step - loss: 0.0154 - accuracy: 0.0155\n",
            "Epoch 55/100\n",
            "4/4 [==============================] - 0s 4ms/step - loss: 0.0145 - accuracy: 0.0061\n",
            "Epoch 56/100\n",
            "4/4 [==============================] - 0s 4ms/step - loss: 0.0156 - accuracy: 0.0092\n",
            "Epoch 57/100\n",
            "4/4 [==============================] - 0s 5ms/step - loss: 0.0140 - accuracy: 0.0155\n",
            "Epoch 58/100\n",
            "4/4 [==============================] - 0s 4ms/step - loss: 0.0141 - accuracy: 0.0155\n",
            "Epoch 59/100\n",
            "4/4 [==============================] - 0s 4ms/step - loss: 0.0112 - accuracy: 0.0092\n",
            "Epoch 60/100\n",
            "4/4 [==============================] - 0s 3ms/step - loss: 0.0138 - accuracy: 0.0155\n",
            "Epoch 61/100\n",
            "4/4 [==============================] - 0s 4ms/step - loss: 0.0129 - accuracy: 0.0155\n",
            "Epoch 62/100\n",
            "4/4 [==============================] - 0s 4ms/step - loss: 0.0128 - accuracy: 0.0092\n",
            "Epoch 63/100\n",
            "4/4 [==============================] - 0s 4ms/step - loss: 0.0107 - accuracy: 0.0061\n",
            "Epoch 64/100\n",
            "4/4 [==============================] - 0s 4ms/step - loss: 0.0088 - accuracy: 0.0061\n",
            "Epoch 65/100\n",
            "4/4 [==============================] - 0s 4ms/step - loss: 0.0105 - accuracy: 0.0061\n",
            "Epoch 66/100\n",
            "4/4 [==============================] - 0s 4ms/step - loss: 0.0087 - accuracy: 0.0092\n",
            "Epoch 67/100\n",
            "4/4 [==============================] - 0s 4ms/step - loss: 0.0069 - accuracy: 0.0092\n",
            "Epoch 68/100\n",
            "4/4 [==============================] - 0s 5ms/step - loss: 0.0101 - accuracy: 0.0155\n",
            "Epoch 69/100\n",
            "4/4 [==============================] - 0s 7ms/step - loss: 0.0082 - accuracy: 0.0155\n",
            "Epoch 70/100\n",
            "4/4 [==============================] - 0s 3ms/step - loss: 0.0074 - accuracy: 0.0061\n",
            "Epoch 71/100\n",
            "4/4 [==============================] - 0s 4ms/step - loss: 0.0094 - accuracy: 0.0155\n",
            "Epoch 72/100\n",
            "4/4 [==============================] - 0s 4ms/step - loss: 0.0072 - accuracy: 0.0092\n",
            "Epoch 73/100\n",
            "4/4 [==============================] - 0s 4ms/step - loss: 0.0083 - accuracy: 0.0092\n",
            "Epoch 74/100\n",
            "4/4 [==============================] - 0s 4ms/step - loss: 0.0097 - accuracy: 0.0155\n",
            "Epoch 75/100\n",
            "4/4 [==============================] - 0s 4ms/step - loss: 0.0081 - accuracy: 0.0061\n",
            "Epoch 76/100\n",
            "4/4 [==============================] - 0s 4ms/step - loss: 0.0063 - accuracy: 0.0061\n",
            "Epoch 77/100\n",
            "4/4 [==============================] - 0s 4ms/step - loss: 0.0059 - accuracy: 0.0092\n",
            "Epoch 78/100\n",
            "4/4 [==============================] - 0s 4ms/step - loss: 0.0078 - accuracy: 0.0092\n",
            "Epoch 79/100\n",
            "4/4 [==============================] - 0s 4ms/step - loss: 0.0043 - accuracy: 0.0061\n",
            "Epoch 80/100\n",
            "4/4 [==============================] - 0s 3ms/step - loss: 0.0063 - accuracy: 0.0155\n",
            "Epoch 81/100\n",
            "4/4 [==============================] - 0s 4ms/step - loss: 0.0040 - accuracy: 0.0155\n",
            "Epoch 82/100\n",
            "4/4 [==============================] - 0s 4ms/step - loss: 0.0057 - accuracy: 0.0155\n",
            "Epoch 83/100\n",
            "4/4 [==============================] - 0s 4ms/step - loss: 0.0050 - accuracy: 0.0155\n",
            "Epoch 84/100\n",
            "4/4 [==============================] - 0s 4ms/step - loss: 0.0049 - accuracy: 0.0155\n",
            "Epoch 85/100\n",
            "4/4 [==============================] - 0s 4ms/step - loss: 0.0047 - accuracy: 0.0155\n",
            "Epoch 86/100\n",
            "4/4 [==============================] - 0s 4ms/step - loss: 0.0043 - accuracy: 0.0092\n",
            "Epoch 87/100\n",
            "4/4 [==============================] - 0s 4ms/step - loss: 0.0053 - accuracy: 0.0155\n",
            "Epoch 88/100\n",
            "4/4 [==============================] - 0s 5ms/step - loss: 0.0033 - accuracy: 0.0092\n",
            "Epoch 89/100\n",
            "4/4 [==============================] - 0s 6ms/step - loss: 0.0041 - accuracy: 0.0092\n",
            "Epoch 90/100\n",
            "4/4 [==============================] - 0s 6ms/step - loss: 0.0042 - accuracy: 0.0092\n",
            "Epoch 91/100\n",
            "4/4 [==============================] - 0s 4ms/step - loss: 0.0032 - accuracy: 0.0092\n",
            "Epoch 92/100\n",
            "4/4 [==============================] - 0s 4ms/step - loss: 0.0050 - accuracy: 0.0092\n",
            "Epoch 93/100\n",
            "4/4 [==============================] - 0s 5ms/step - loss: 0.0033 - accuracy: 0.0061\n",
            "Epoch 94/100\n",
            "4/4 [==============================] - 0s 5ms/step - loss: 0.0035 - accuracy: 0.0061\n",
            "Epoch 95/100\n",
            "4/4 [==============================] - 0s 4ms/step - loss: 0.0035 - accuracy: 0.0155\n",
            "Epoch 96/100\n",
            "4/4 [==============================] - 0s 5ms/step - loss: 0.0032 - accuracy: 0.0061\n",
            "Epoch 97/100\n",
            "4/4 [==============================] - 0s 4ms/step - loss: 0.0043 - accuracy: 0.0092\n",
            "Epoch 98/100\n",
            "4/4 [==============================] - 0s 4ms/step - loss: 0.0032 - accuracy: 0.0040\n",
            "Epoch 99/100\n",
            "4/4 [==============================] - 0s 3ms/step - loss: 0.0025 - accuracy: 0.0092\n",
            "Epoch 100/100\n",
            "4/4 [==============================] - 0s 6ms/step - loss: 0.0051 - accuracy: 0.0155\n"
          ],
          "name": "stdout"
        }
      ]
    },
    {
      "cell_type": "markdown",
      "metadata": {
        "id": "wOLinSBJ4o8l"
      },
      "source": [
        "# **Model Summary**"
      ]
    },
    {
      "cell_type": "code",
      "metadata": {
        "colab": {
          "base_uri": "https://localhost:8080/"
        },
        "id": "mNqo_xCW5pM4",
        "outputId": "f47faaae-1777-46d4-d2a6-3fb2d5b9532a"
      },
      "source": [
        "model_shallow.summary() # summary"
      ],
      "execution_count": 23,
      "outputs": [
        {
          "output_type": "stream",
          "text": [
            "Model: \"sequential_2\"\n",
            "_________________________________________________________________\n",
            "Layer (type)                 Output Shape              Param #   \n",
            "=================================================================\n",
            "flatten_1 (Flatten)          (None, 1)                 0         \n",
            "_________________________________________________________________\n",
            "dense_8 (Dense)              (None, 812)               1624      \n",
            "_________________________________________________________________\n",
            "dropout_1 (Dropout)          (None, 812)               0         \n",
            "_________________________________________________________________\n",
            "dense_9 (Dense)              (None, 1)                 813       \n",
            "=================================================================\n",
            "Total params: 2,437\n",
            "Trainable params: 2,437\n",
            "Non-trainable params: 0\n",
            "_________________________________________________________________\n"
          ],
          "name": "stdout"
        }
      ]
    },
    {
      "cell_type": "markdown",
      "metadata": {
        "id": "f-OoFSBcakJi"
      },
      "source": [
        "*Total number of parameters in the neural network = 2437*\r\n",
        "\r\n",
        "---\r\n",
        "\r\n"
      ]
    },
    {
      "cell_type": "markdown",
      "metadata": {
        "id": "csq6yj0d5sKk"
      },
      "source": [
        "**Plot** the Figures after the training "
      ]
    },
    {
      "cell_type": "code",
      "metadata": {
        "colab": {
          "base_uri": "https://localhost:8080/",
          "height": 301
        },
        "id": "BehYRWmf4sQr",
        "outputId": "fdf4e9c8-3869-429e-a5a3-7a537ca2647c"
      },
      "source": [
        "yp=model_shallow.predict(x)  # simulated values\r\n",
        "plt.scatter(x,y,label='actual function')             # actual values\r\n",
        "plt.scatter(x,yp,label='simulated values')            # simulated values\r\n",
        "plt.xlabel(\"X Values\")\r\n",
        "plt.xlabel(\"Y values\")\r\n",
        "plt.title(\"Comparison of actual values and simulated values\")\r\n",
        "plt.show()"
      ],
      "execution_count": 24,
      "outputs": [
        {
          "output_type": "display_data",
          "data": {
            "image/png": "[encoded data removed]",
            "text/plain": [
              "<Figure size 432x288 with 1 Axes>"
            ]
          },
          "metadata": {
            "tags": [],
            "needs_background": "light"
          }
        }
      ]
    },
    {
      "cell_type": "markdown",
      "metadata": {
        "id": "nBvuT16w6cHO"
      },
      "source": [
        "Test the model with new data "
      ]
    },
    {
      "cell_type": "code",
      "metadata": {
        "colab": {
          "base_uri": "https://localhost:8080/",
          "height": 301
        },
        "id": "0vpTXjWALycg",
        "outputId": "486eac1f-9aa7-46dc-b1e2-6395c1365da3"
      },
      "source": [
        "## new testing data\r\n",
        "x_test=np.arange(2.2,5.6,0.01)\r\n",
        "y_test=model_shallow.predict(x_test)\r\n",
        "\r\n",
        "plt.scatter(x_test,np.exp(-x_test),label='Actual function')\r\n",
        "plt.scatter(x_test,y_test,label='Model Predicted')\r\n",
        "\r\n",
        "plt.ylabel('function values',color='g')\r\n",
        "plt.xlabel(\"test data\",color='g')\r\n",
        "plt.title('Comparison of actual value and model predicted values',color='g')\r\n",
        "plt.show()"
      ],
      "execution_count": 25,
      "outputs": [
        {
          "output_type": "display_data",
          "data": {
            "image/png": "[encoded data removed]",
            "text/plain": [
              "<Figure size 432x288 with 1 Axes>"
            ]
          },
          "metadata": {
            "tags": [],
            "needs_background": "light"
          }
        }
      ]
    },
    {
      "cell_type": "code",
      "metadata": {
        "colab": {
          "base_uri": "https://localhost:8080/",
          "height": 301
        },
        "id": "jVE6d4l18BEO",
        "outputId": "70eb834a-8a45-488f-d26a-926660428509"
      },
      "source": [
        "plt.plot(history_shallow.history['loss'])\r\n",
        "plt.title('Model loss',color='k')\r\n",
        "plt.ylabel('Loss',color='k')\r\n",
        "plt.xlabel('No. of Epochs')\r\n",
        "plt.show()"
      ],
      "execution_count": 27,
      "outputs": [
        {
          "output_type": "display_data",
          "data": {
            "image/png": "[encoded data removed]",
            "text/plain": [
              "<Figure size 432x288 with 1 Axes>"
            ]
          },
          "metadata": {
            "tags": [],
            "needs_background": "light"
          }
        }
      ]
    },
    {
      "cell_type": "markdown",
      "metadata": {
        "id": "DQD_6ZFhcba6"
      },
      "source": [
        "**Model #2 Deep neural network (using 3 hidden layers)**\r\n",
        "\r\n",
        "\r\n",
        "\r\n",
        "\r\n"
      ]
    },
    {
      "cell_type": "code",
      "metadata": {
        "colab": {
          "base_uri": "https://localhost:8080/"
        },
        "id": "Nm_gn-2XcOhq",
        "outputId": "bab92898-2dd0-4a9d-c8ad-c3a5dafe893b"
      },
      "source": [
        "model_deep=tf.keras.models.Sequential([#tf.keras.layers.Flatten(x),\r\n",
        "                                  tf.keras.layers.Dense(16,activation=tf.nn.relu),\r\n",
        "                                  tf.keras.layers.Dense(24,activation=tf.nn.relu),\r\n",
        "                                  tf.keras.layers.Dense(32,activation=tf.nn.relu),\r\n",
        "                                  tf.keras.layers.Dense(24,activation=tf.nn.relu),\r\n",
        "                                  tf.keras.layers.Dense(16,activation=tf.nn.relu),\r\n",
        "                                  tf.keras.layers.Dense(1)])\r\n",
        "opt = tf.keras.optimizers.Adam(learning_rate=0.02)\r\n",
        "model_deep.compile(optimizer=opt,loss='mse',metrics=['accuracy'])\r\n",
        "history_deep=model_deep.fit(x,y,epochs=100)\r\n",
        "model_deep.summary()"
      ],
      "execution_count": 28,
      "outputs": [
        {
          "output_type": "stream",
          "text": [
            "Epoch 1/100\n",
            "4/4 [==============================] - 1s 3ms/step - loss: 0.1541 - accuracy: 0.0000e+00\n",
            "Epoch 2/100\n",
            "4/4 [==============================] - 0s 3ms/step - loss: 0.0730 - accuracy: 0.0000e+00\n",
            "Epoch 3/100\n",
            "4/4 [==============================] - 0s 3ms/step - loss: 0.0375 - accuracy: 0.0000e+00\n",
            "Epoch 4/100\n",
            "4/4 [==============================] - 0s 4ms/step - loss: 0.0065 - accuracy: 0.0061\n",
            "Epoch 5/100\n",
            "4/4 [==============================] - 0s 3ms/step - loss: 0.0039 - accuracy: 0.0092\n",
            "Epoch 6/100\n",
            "4/4 [==============================] - 0s 3ms/step - loss: 0.0014 - accuracy: 0.0155\n",
            "Epoch 7/100\n",
            "4/4 [==============================] - 0s 3ms/step - loss: 0.0012 - accuracy: 0.0061\n",
            "Epoch 8/100\n",
            "4/4 [==============================] - 0s 2ms/step - loss: 6.7077e-04 - accuracy: 0.0155\n",
            "Epoch 9/100\n",
            "4/4 [==============================] - 0s 3ms/step - loss: 2.1628e-04 - accuracy: 0.0092\n",
            "Epoch 10/100\n",
            "4/4 [==============================] - 0s 4ms/step - loss: 0.0011 - accuracy: 0.0092\n",
            "Epoch 11/100\n",
            "4/4 [==============================] - 0s 3ms/step - loss: 5.3902e-04 - accuracy: 0.0092\n",
            "Epoch 12/100\n",
            "4/4 [==============================] - 0s 4ms/step - loss: 1.4815e-04 - accuracy: 0.0061\n",
            "Epoch 13/100\n",
            "4/4 [==============================] - 0s 4ms/step - loss: 2.6052e-04 - accuracy: 0.0155\n",
            "Epoch 14/100\n",
            "4/4 [==============================] - 0s 3ms/step - loss: 3.0877e-04 - accuracy: 0.0155\n",
            "Epoch 15/100\n",
            "4/4 [==============================] - 0s 4ms/step - loss: 9.5354e-05 - accuracy: 0.0092\n",
            "Epoch 16/100\n",
            "4/4 [==============================] - 0s 3ms/step - loss: 4.6418e-04 - accuracy: 0.0155\n",
            "Epoch 17/100\n",
            "4/4 [==============================] - 0s 5ms/step - loss: 3.0562e-04 - accuracy: 0.0061\n",
            "Epoch 18/100\n",
            "4/4 [==============================] - 0s 3ms/step - loss: 7.1363e-04 - accuracy: 0.0155\n",
            "Epoch 19/100\n",
            "4/4 [==============================] - 0s 3ms/step - loss: 2.4624e-04 - accuracy: 0.0092\n",
            "Epoch 20/100\n",
            "4/4 [==============================] - 0s 4ms/step - loss: 1.9870e-04 - accuracy: 0.0092\n",
            "Epoch 21/100\n",
            "4/4 [==============================] - 0s 4ms/step - loss: 3.3133e-04 - accuracy: 0.0092\n",
            "Epoch 22/100\n",
            "4/4 [==============================] - 0s 4ms/step - loss: 5.5361e-04 - accuracy: 0.0092\n",
            "Epoch 23/100\n",
            "4/4 [==============================] - 0s 4ms/step - loss: 6.5884e-04 - accuracy: 0.0061\n",
            "Epoch 24/100\n",
            "4/4 [==============================] - 0s 3ms/step - loss: 3.7585e-04 - accuracy: 0.0061\n",
            "Epoch 25/100\n",
            "4/4 [==============================] - 0s 4ms/step - loss: 4.3694e-04 - accuracy: 0.0061\n",
            "Epoch 26/100\n",
            "4/4 [==============================] - 0s 4ms/step - loss: 2.3958e-04 - accuracy: 0.0061\n",
            "Epoch 27/100\n",
            "4/4 [==============================] - 0s 4ms/step - loss: 4.2320e-04 - accuracy: 0.0092\n",
            "Epoch 28/100\n",
            "4/4 [==============================] - 0s 3ms/step - loss: 3.7835e-04 - accuracy: 0.0092\n",
            "Epoch 29/100\n",
            "4/4 [==============================] - 0s 3ms/step - loss: 2.3343e-04 - accuracy: 0.0092\n",
            "Epoch 30/100\n",
            "4/4 [==============================] - 0s 3ms/step - loss: 1.0225e-04 - accuracy: 0.0155\n",
            "Epoch 31/100\n",
            "4/4 [==============================] - 0s 3ms/step - loss: 1.1950e-04 - accuracy: 0.0092\n",
            "Epoch 32/100\n",
            "4/4 [==============================] - 0s 3ms/step - loss: 1.8785e-04 - accuracy: 0.0061\n",
            "Epoch 33/100\n",
            "4/4 [==============================] - 0s 4ms/step - loss: 1.2766e-04 - accuracy: 0.0155\n",
            "Epoch 34/100\n",
            "4/4 [==============================] - 0s 4ms/step - loss: 1.2308e-04 - accuracy: 0.0155\n",
            "Epoch 35/100\n",
            "4/4 [==============================] - 0s 3ms/step - loss: 1.4169e-04 - accuracy: 0.0061\n",
            "Epoch 36/100\n",
            "4/4 [==============================] - 0s 4ms/step - loss: 1.0735e-04 - accuracy: 0.0061\n",
            "Epoch 37/100\n",
            "4/4 [==============================] - 0s 6ms/step - loss: 3.1461e-05 - accuracy: 0.0155\n",
            "Epoch 38/100\n",
            "4/4 [==============================] - 0s 4ms/step - loss: 3.4013e-05 - accuracy: 0.0061\n",
            "Epoch 39/100\n",
            "4/4 [==============================] - 0s 4ms/step - loss: 3.6249e-05 - accuracy: 0.0061\n",
            "Epoch 40/100\n",
            "4/4 [==============================] - 0s 4ms/step - loss: 3.9237e-05 - accuracy: 0.0092\n",
            "Epoch 41/100\n",
            "4/4 [==============================] - 0s 3ms/step - loss: 2.2318e-05 - accuracy: 0.0092\n",
            "Epoch 42/100\n",
            "4/4 [==============================] - 0s 3ms/step - loss: 4.2088e-05 - accuracy: 0.0092\n",
            "Epoch 43/100\n",
            "4/4 [==============================] - 0s 3ms/step - loss: 1.9788e-05 - accuracy: 0.0061\n",
            "Epoch 44/100\n",
            "4/4 [==============================] - 0s 4ms/step - loss: 1.8142e-05 - accuracy: 0.0092\n",
            "Epoch 45/100\n",
            "4/4 [==============================] - 0s 5ms/step - loss: 1.7075e-05 - accuracy: 0.0155\n",
            "Epoch 46/100\n",
            "4/4 [==============================] - 0s 3ms/step - loss: 2.5159e-05 - accuracy: 0.0092\n",
            "Epoch 47/100\n",
            "4/4 [==============================] - 0s 4ms/step - loss: 2.2346e-05 - accuracy: 0.0061\n",
            "Epoch 48/100\n",
            "4/4 [==============================] - 0s 4ms/step - loss: 2.1437e-05 - accuracy: 0.0092\n",
            "Epoch 49/100\n",
            "4/4 [==============================] - 0s 4ms/step - loss: 3.3215e-05 - accuracy: 0.0061\n",
            "Epoch 50/100\n",
            "4/4 [==============================] - 0s 4ms/step - loss: 2.5180e-05 - accuracy: 0.0155\n",
            "Epoch 51/100\n",
            "4/4 [==============================] - 0s 5ms/step - loss: 3.9091e-05 - accuracy: 0.0092\n",
            "Epoch 52/100\n",
            "4/4 [==============================] - 0s 4ms/step - loss: 6.3159e-05 - accuracy: 0.0155\n",
            "Epoch 53/100\n",
            "4/4 [==============================] - 0s 4ms/step - loss: 2.9210e-05 - accuracy: 0.0155\n",
            "Epoch 54/100\n",
            "4/4 [==============================] - 0s 3ms/step - loss: 4.9099e-05 - accuracy: 0.0092\n",
            "Epoch 55/100\n",
            "4/4 [==============================] - 0s 3ms/step - loss: 5.3595e-05 - accuracy: 0.0155\n",
            "Epoch 56/100\n",
            "4/4 [==============================] - 0s 4ms/step - loss: 1.1846e-04 - accuracy: 0.0092\n",
            "Epoch 57/100\n",
            "4/4 [==============================] - 0s 4ms/step - loss: 8.1784e-05 - accuracy: 0.0155\n",
            "Epoch 58/100\n",
            "4/4 [==============================] - 0s 4ms/step - loss: 5.1394e-05 - accuracy: 0.0092\n",
            "Epoch 59/100\n",
            "4/4 [==============================] - 0s 3ms/step - loss: 4.2899e-05 - accuracy: 0.0155\n",
            "Epoch 60/100\n",
            "4/4 [==============================] - 0s 3ms/step - loss: 5.7595e-05 - accuracy: 0.0061\n",
            "Epoch 61/100\n",
            "4/4 [==============================] - 0s 3ms/step - loss: 9.3765e-05 - accuracy: 0.0155\n",
            "Epoch 62/100\n",
            "4/4 [==============================] - 0s 3ms/step - loss: 2.0291e-04 - accuracy: 0.0092\n",
            "Epoch 63/100\n",
            "4/4 [==============================] - 0s 3ms/step - loss: 1.1065e-04 - accuracy: 0.0092\n",
            "Epoch 64/100\n",
            "4/4 [==============================] - 0s 3ms/step - loss: 1.9069e-04 - accuracy: 0.0155\n",
            "Epoch 65/100\n",
            "4/4 [==============================] - 0s 3ms/step - loss: 2.2750e-04 - accuracy: 0.0061\n",
            "Epoch 66/100\n",
            "4/4 [==============================] - 0s 4ms/step - loss: 2.7178e-04 - accuracy: 0.0092\n",
            "Epoch 67/100\n",
            "4/4 [==============================] - 0s 4ms/step - loss: 1.1484e-04 - accuracy: 0.0155\n",
            "Epoch 68/100\n",
            "4/4 [==============================] - 0s 4ms/step - loss: 8.5650e-05 - accuracy: 0.0155\n",
            "Epoch 69/100\n",
            "4/4 [==============================] - 0s 5ms/step - loss: 7.2042e-05 - accuracy: 0.0092\n",
            "Epoch 70/100\n",
            "4/4 [==============================] - 0s 4ms/step - loss: 1.6260e-04 - accuracy: 0.0061\n",
            "Epoch 71/100\n",
            "4/4 [==============================] - 0s 4ms/step - loss: 1.4728e-04 - accuracy: 0.0092\n",
            "Epoch 72/100\n",
            "4/4 [==============================] - 0s 4ms/step - loss: 5.9622e-05 - accuracy: 0.0092\n",
            "Epoch 73/100\n",
            "4/4 [==============================] - 0s 4ms/step - loss: 9.1010e-05 - accuracy: 0.0155\n",
            "Epoch 74/100\n",
            "4/4 [==============================] - 0s 4ms/step - loss: 5.5546e-05 - accuracy: 0.0155\n",
            "Epoch 75/100\n",
            "4/4 [==============================] - 0s 3ms/step - loss: 5.3111e-05 - accuracy: 0.0155\n",
            "Epoch 76/100\n",
            "4/4 [==============================] - 0s 3ms/step - loss: 3.2481e-05 - accuracy: 0.0061\n",
            "Epoch 77/100\n",
            "4/4 [==============================] - 0s 3ms/step - loss: 4.2591e-05 - accuracy: 0.0061\n",
            "Epoch 78/100\n",
            "4/4 [==============================] - 0s 3ms/step - loss: 1.0648e-04 - accuracy: 0.0092\n",
            "Epoch 79/100\n",
            "4/4 [==============================] - 0s 4ms/step - loss: 6.3418e-05 - accuracy: 0.0155\n",
            "Epoch 80/100\n",
            "4/4 [==============================] - 0s 3ms/step - loss: 7.2116e-05 - accuracy: 0.0061\n",
            "Epoch 81/100\n",
            "4/4 [==============================] - 0s 4ms/step - loss: 7.5300e-05 - accuracy: 0.0155\n",
            "Epoch 82/100\n",
            "4/4 [==============================] - 0s 4ms/step - loss: 4.9399e-05 - accuracy: 0.0061\n",
            "Epoch 83/100\n",
            "4/4 [==============================] - 0s 4ms/step - loss: 1.0664e-04 - accuracy: 0.0061\n",
            "Epoch 84/100\n",
            "4/4 [==============================] - 0s 4ms/step - loss: 6.7655e-05 - accuracy: 0.0092\n",
            "Epoch 85/100\n",
            "4/4 [==============================] - 0s 4ms/step - loss: 5.2476e-05 - accuracy: 0.0061\n",
            "Epoch 86/100\n",
            "4/4 [==============================] - 0s 4ms/step - loss: 3.5746e-05 - accuracy: 0.0061\n",
            "Epoch 87/100\n",
            "4/4 [==============================] - 0s 3ms/step - loss: 2.8585e-05 - accuracy: 0.0092\n",
            "Epoch 88/100\n",
            "4/4 [==============================] - 0s 4ms/step - loss: 4.2366e-05 - accuracy: 0.0155\n",
            "Epoch 89/100\n",
            "4/4 [==============================] - 0s 3ms/step - loss: 4.1142e-05 - accuracy: 0.0155\n",
            "Epoch 90/100\n",
            "4/4 [==============================] - 0s 3ms/step - loss: 2.0917e-05 - accuracy: 0.0061\n",
            "Epoch 91/100\n",
            "4/4 [==============================] - 0s 5ms/step - loss: 7.1398e-05 - accuracy: 0.0092\n",
            "Epoch 92/100\n",
            "4/4 [==============================] - 0s 15ms/step - loss: 3.7905e-05 - accuracy: 0.0092\n",
            "Epoch 93/100\n",
            "4/4 [==============================] - 0s 5ms/step - loss: 3.2076e-05 - accuracy: 0.0040\n",
            "Epoch 94/100\n",
            "4/4 [==============================] - 0s 4ms/step - loss: 1.0104e-04 - accuracy: 0.0092\n",
            "Epoch 95/100\n",
            "4/4 [==============================] - 0s 3ms/step - loss: 6.2070e-05 - accuracy: 0.0092\n",
            "Epoch 96/100\n",
            "4/4 [==============================] - 0s 4ms/step - loss: 7.3348e-05 - accuracy: 0.0061\n",
            "Epoch 97/100\n",
            "4/4 [==============================] - 0s 3ms/step - loss: 9.5397e-05 - accuracy: 0.0040\n",
            "Epoch 98/100\n",
            "4/4 [==============================] - 0s 3ms/step - loss: 4.3097e-05 - accuracy: 0.0061\n",
            "Epoch 99/100\n",
            "4/4 [==============================] - 0s 3ms/step - loss: 5.4139e-05 - accuracy: 0.0092\n",
            "Epoch 100/100\n",
            "4/4 [==============================] - 0s 3ms/step - loss: 4.0661e-05 - accuracy: 0.0061\n",
            "Model: \"sequential_3\"\n",
            "_________________________________________________________________\n",
            "Layer (type)                 Output Shape              Param #   \n",
            "=================================================================\n",
            "dense_10 (Dense)             (None, 16)                32        \n",
            "_________________________________________________________________\n",
            "dense_11 (Dense)             (None, 24)                408       \n",
            "_________________________________________________________________\n",
            "dense_12 (Dense)             (None, 32)                800       \n",
            "_________________________________________________________________\n",
            "dense_13 (Dense)             (None, 24)                792       \n",
            "_________________________________________________________________\n",
            "dense_14 (Dense)             (None, 16)                400       \n",
            "_________________________________________________________________\n",
            "dense_15 (Dense)             (None, 1)                 17        \n",
            "=================================================================\n",
            "Total params: 2,449\n",
            "Trainable params: 2,449\n",
            "Non-trainable params: 0\n",
            "_________________________________________________________________\n"
          ],
          "name": "stdout"
        }
      ]
    },
    {
      "cell_type": "code",
      "metadata": {
        "colab": {
          "base_uri": "https://localhost:8080/",
          "height": 336
        },
        "id": "ghyuuq0-RqY5",
        "outputId": "6b46f1f6-8ac0-4514-f02d-9f0a35aa3ec5"
      },
      "source": [
        "x_test=np.arange(2.2,5.2,0.1)\r\n",
        "y_test=model_deep.predict(x_test)\r\n",
        "model_deep.evaluate(x_test,y_test)\r\n",
        "plt.scatter(x_test,np.exp(-x_test),label='actual Values')\r\n",
        "plt.scatter(x_test,y_test,label='model Predicted')\r\n",
        "plt.title('validation on the Test data',color='k')\r\n",
        "plt.xlabel('X Values',color='k')\r\n",
        "plt.ylabel('function values',color='k')\r\n"
      ],
      "execution_count": 29,
      "outputs": [
        {
          "output_type": "stream",
          "text": [
            "1/1 [==============================] - 0s 112ms/step - loss: 2.5905e-17 - accuracy: 0.0000e+00\n"
          ],
          "name": "stdout"
        },
        {
          "output_type": "execute_result",
          "data": {
            "text/plain": [
              "Text(0, 0.5, 'function values')"
            ]
          },
          "metadata": {
            "tags": []
          },
          "execution_count": 29
        },
        {
          "output_type": "display_data",
          "data": {
            "image/png": "[encoded data removed]",
            "text/plain": [
              "<Figure size 432x288 with 1 Axes>"
            ]
          },
          "metadata": {
            "tags": [],
            "needs_background": "light"
          }
        }
      ]
    },
    {
      "cell_type": "code",
      "metadata": {
        "id": "tqLiDCm5gfrW",
        "colab": {
          "base_uri": "https://localhost:8080/",
          "height": 301
        },
        "outputId": "9a3553aa-99fa-4c0c-9086-356c36a3f0a8"
      },
      "source": [
        "plt.plot(history_deep.history['loss'])\r\n",
        "plt.title('Model loss')\r\n",
        "plt.ylabel('Loss')\r\n",
        "plt.xlabel('Epoch')\r\n",
        "plt.show()\r\n"
      ],
      "execution_count": 30,
      "outputs": [
        {
          "output_type": "display_data",
          "data": {
            "image/png": "[encoded data removed]",
            "text/plain": [
              "<Figure size 432x288 with 1 Axes>"
            ]
          },
          "metadata": {
            "tags": [],
            "needs_background": "light"
          }
        }
      ]
    },
    {
      "cell_type": "code",
      "metadata": {
        "id": "Jk1ZRaf1cZfS"
      },
      "source": [
        "\r\n"
      ],
      "execution_count": null,
      "outputs": []
    }
  ]
}